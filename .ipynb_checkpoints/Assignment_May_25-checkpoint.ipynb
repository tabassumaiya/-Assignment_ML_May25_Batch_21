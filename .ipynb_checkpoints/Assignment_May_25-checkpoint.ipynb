{
 "cells": [
  {
   "cell_type": "markdown",
   "id": "ab03d72f",
   "metadata": {},
   "source": [
    "1. Write a program that swaps the values of two variables."
   ]
  },
  {
   "cell_type": "code",
   "execution_count": 1,
   "id": "e2cf60c8",
   "metadata": {},
   "outputs": [
    {
     "name": "stdout",
     "output_type": "stream",
     "text": [
      "20 10\n"
     ]
    }
   ],
   "source": [
    "x=10\n",
    "y=20\n",
    "x,y=y,x\n",
    "print(x,y)"
   ]
  },
  {
   "cell_type": "markdown",
   "id": "4983acca",
   "metadata": {},
   "source": [
    "2. Write a program that calculates the area of a rectangle given its length and width."
   ]
  },
  {
   "cell_type": "code",
   "execution_count": 2,
   "id": "382329b8",
   "metadata": {},
   "outputs": [
    {
     "name": "stdout",
     "output_type": "stream",
     "text": [
      "Enter the length of a rectangle (in m): 14.3\n",
      "Enter the width of a rectangle (in m) : 16.7\n",
      "The area of rectangle is:  238.81 m^2\n"
     ]
    }
   ],
   "source": [
    "Length=float(input(\"Enter the length of a rectangle (in m): \"))\n",
    "Width=float(input(\"Enter the width of a rectangle (in m) : \"))\n",
    "Area=round(Length*Width,2)\n",
    "print(\"The area of rectangle is: \",Area,\"m^2\")"
   ]
  },
  {
   "cell_type": "markdown",
   "id": "695cfe02",
   "metadata": {},
   "source": [
    "3. Write a program that converts temperature from Fahrenheit to Celsius."
   ]
  },
  {
   "cell_type": "code",
   "execution_count": 3,
   "id": "cc4332f1",
   "metadata": {},
   "outputs": [
    {
     "name": "stdout",
     "output_type": "stream",
     "text": [
      "Enter temperature in Fahrenheit: 50\n",
      "Temperature in Celsius: 10.0\n"
     ]
    }
   ],
   "source": [
    "temp = float(input(\"Enter temperature in Fahrenheit: \"))\n",
    "result=round((5/9)*(temp-32),2)\n",
    "print(\"Temperature in Celsius:\",result)"
   ]
  },
  {
   "cell_type": "markdown",
   "id": "5fc836dd",
   "metadata": {},
   "source": [
    "4. Write a program that calculates the volume of a sphere given its radius."
   ]
  },
  {
   "cell_type": "code",
   "execution_count": 5,
   "id": "8a5816b5",
   "metadata": {},
   "outputs": [
    {
     "name": "stdout",
     "output_type": "stream",
     "text": [
      "Enter radius of a sphere in m: 12\n",
      "The volume of the sphere is 7238.23 m^2\n"
     ]
    }
   ],
   "source": [
    "import math\n",
    "radius=float(input(\"Enter radius of a sphere in m: \"))\n",
    "volume=round((4/3)*math.pi*radius**3,2)\n",
    "print(\"The volume of the sphere is\",volume,\"m^2\")"
   ]
  },
  {
   "cell_type": "markdown",
   "id": "2f7ac950",
   "metadata": {},
   "source": [
    "5. Write a program that finds the average of three numbers."
   ]
  },
  {
   "cell_type": "code",
   "execution_count": 7,
   "id": "b629aa60",
   "metadata": {},
   "outputs": [
    {
     "name": "stdout",
     "output_type": "stream",
     "text": [
      "Enter first number: 12\n",
      "Enter second number: 14\n",
      "Enter third number: 30\n",
      "The average of three numbers is : 18.67\n"
     ]
    }
   ],
   "source": [
    "a=float(input(\"Enter first number: \"))\n",
    "b=float(input(\"Enter second number: \"))\n",
    "c=float(input(\"Enter third number: \"))\n",
    "average=(a+b+c)/3\n",
    "print(\"The average of three numbers is :\",round(average,2))"
   ]
  },
  {
   "cell_type": "markdown",
   "id": "1a08102f",
   "metadata": {},
   "source": [
    "6. Write a program that determines if a number is even or odd."
   ]
  },
  {
   "cell_type": "code",
   "execution_count": 8,
   "id": "71e875a3",
   "metadata": {},
   "outputs": [
    {
     "name": "stdout",
     "output_type": "stream",
     "text": [
      "Enter a number: 15\n",
      "The number 15 is odd\n"
     ]
    }
   ],
   "source": [
    "num=int(input(\"Enter a number: \"))\n",
    "if num%2==0:\n",
    "    print(\"The number\",num,\"is even\")\n",
    "else:\n",
    "    print(\"The number\",num,\"is odd\")"
   ]
  },
  {
   "cell_type": "markdown",
   "id": "58fcb477",
   "metadata": {},
   "source": [
    "7. Write a program that finds the maximum of three numbers."
   ]
  },
  {
   "cell_type": "code",
   "execution_count": 9,
   "id": "9e7f4c44",
   "metadata": {},
   "outputs": [
    {
     "name": "stdout",
     "output_type": "stream",
     "text": [
      "Enter a number: 14\n",
      "Enter a number: 30\n",
      "Enter a number: 35\n",
      "35.0 is maximum\n"
     ]
    }
   ],
   "source": [
    "a=float(input(\"Enter a number: \"))\n",
    "b=float(input(\"Enter a number: \"))\n",
    "c=float(input(\"Enter a number: \"))\n",
    "if a>b and b>c:\n",
    "    print(a,\"is maximum\")\n",
    "elif b>a and b>c:\n",
    "    print(b,\"is maximum\")\n",
    "else:\n",
    "    print(c,\"is maximum\")"
   ]
  },
  {
   "cell_type": "markdown",
   "id": "5b2226de",
   "metadata": {},
   "source": [
    "8. Write a program that determines if a year is a leap year or not."
   ]
  },
  {
   "cell_type": "code",
   "execution_count": 12,
   "id": "d15bd404",
   "metadata": {},
   "outputs": [
    {
     "name": "stdout",
     "output_type": "stream",
     "text": [
      "Enter a year: 2000\n",
      "2000 is a leap year\n"
     ]
    }
   ],
   "source": [
    "year=int(input(\"Enter a year: \"))\n",
    "if (year%4==0) or (year%100==0 and year%400==0):\n",
    "    print(year, \"is a leap year\")\n",
    "else:\n",
    "    print(year, \"is not a leap year\")"
   ]
  },
  {
   "cell_type": "markdown",
   "id": "3ef64dd8",
   "metadata": {},
   "source": [
    "9. Write a program that determines if a number is positive, negative, or zero."
   ]
  },
  {
   "cell_type": "code",
   "execution_count": 13,
   "id": "d552c883",
   "metadata": {},
   "outputs": [
    {
     "name": "stdout",
     "output_type": "stream",
     "text": [
      "Enter a number: -100\n",
      "-100.0 is negative\n"
     ]
    }
   ],
   "source": [
    "num=float(input(\"Enter a number: \"))\n",
    "if num==0:\n",
    "    print(num, \"is zero.\")\n",
    "elif num>0:\n",
    "    print(num, \"is positive.\")\n",
    "else:\n",
    "    print(num,\"is negative\")"
   ]
  },
  {
   "cell_type": "markdown",
   "id": "3c99fd3e",
   "metadata": {},
   "source": [
    " 10. Write a program that calculates the grade based on a given percentage."
   ]
  },
  {
   "cell_type": "code",
   "execution_count": 15,
   "id": "2c1593f1",
   "metadata": {},
   "outputs": [
    {
     "name": "stdout",
     "output_type": "stream",
     "text": [
      "Enter your grade: 35\n",
      "F\n"
     ]
    }
   ],
   "source": [
    "grade=int(input(\"Enter your grade: \"))\n",
    "if grade>=80:\n",
    "    print(\"A+\")\n",
    "elif grade>=70:\n",
    "    print(\"A\")\n",
    "elif grade>=60:\n",
    "    print(\"B+\")\n",
    "elif grade>=50:\n",
    "    print(\"B\")\n",
    "elif grade>=40:\n",
    "    print(\"B-\")\n",
    "else:\n",
    "    print(\"F\")"
   ]
  },
  {
   "cell_type": "markdown",
   "id": "0486f28d",
   "metadata": {},
   "source": [
    "11. Write a program that prints the first `n` natural numbers."
   ]
  },
  {
   "cell_type": "code",
   "execution_count": 17,
   "id": "77a0ea36",
   "metadata": {},
   "outputs": [
    {
     "name": "stdout",
     "output_type": "stream",
     "text": [
      "Enter your n: 10\n",
      "1\n",
      "2\n",
      "3\n",
      "4\n",
      "5\n",
      "6\n",
      "7\n",
      "8\n",
      "9\n",
      "10\n"
     ]
    }
   ],
   "source": [
    "n=int(input(\"Enter your n: \"))\n",
    "for i in range(1,n+1):\n",
    "    print(i)"
   ]
  },
  {
   "cell_type": "markdown",
   "id": "335c01a4",
   "metadata": {},
   "source": [
    "12. Write a program that calculates the factorial of a number."
   ]
  },
  {
   "cell_type": "code",
   "execution_count": 18,
   "id": "fa37d32f",
   "metadata": {},
   "outputs": [
    {
     "name": "stdout",
     "output_type": "stream",
     "text": [
      "Enter a number: 12\n",
      "479001600\n"
     ]
    }
   ],
   "source": [
    "num=int(input(\"Enter a number: \"))\n",
    "result=1\n",
    "for i in range(num,0,-1):\n",
    "    result*=i\n",
    "print(result)"
   ]
  },
  {
   "cell_type": "markdown",
   "id": "64890002",
   "metadata": {},
   "source": [
    "13. Write a program that generates a Fibonacci sequence of length n"
   ]
  },
  {
   "cell_type": "code",
   "execution_count": 19,
   "id": "b1228740",
   "metadata": {},
   "outputs": [
    {
     "name": "stdout",
     "output_type": "stream",
     "text": [
      "Enter a number: 7\n",
      "0\n",
      "1\n",
      "1\n",
      "2\n",
      "3\n",
      "5\n",
      "8\n"
     ]
    }
   ],
   "source": [
    "n=int(input(\"Enter a number: \"))\n",
    "Before_Previous_num=0\n",
    "print(Before_Previous_num)\n",
    "Previous_num=1\n",
    "print(Previous_num)\n",
    "New_num=Previous_num+Before_Previous_num\n",
    "for i in range(n-2):\n",
    "    print(New_num)\n",
    "    Before_Previous_num=Previous_num\n",
    "    Previous_num=New_num\n",
    "    New_num=Previous_num+Before_Previous_num"
   ]
  },
  {
   "cell_type": "markdown",
   "id": "7e572bb2",
   "metadata": {},
   "source": [
    "14. Write a program that checks if a given number is prime or not."
   ]
  },
  {
   "cell_type": "code",
   "execution_count": 20,
   "id": "26a456ba",
   "metadata": {},
   "outputs": [
    {
     "name": "stdout",
     "output_type": "stream",
     "text": [
      "Enter a number: 21\n",
      "This is not a prime number\n"
     ]
    }
   ],
   "source": [
    "n=int(input(\"Enter a number: \"))\n",
    "if n==0 or n==1:\n",
    "    print(\"This is not a prime number\")\n",
    "else:\n",
    "    for i in range(2,n):\n",
    "        y=n%i\n",
    "        i+=1\n",
    "        if y==0:\n",
    "            print(\"This is not a prime number\")\n",
    "            break\n",
    "    if y!=0:\n",
    "        print(\"This is a prime number\")"
   ]
  },
  {
   "cell_type": "markdown",
   "id": "fec787ba",
   "metadata": {},
   "source": [
    "15. Write a program that prints the multiplication table of a given number."
   ]
  },
  {
   "cell_type": "code",
   "execution_count": 23,
   "id": "735c2b16",
   "metadata": {},
   "outputs": [
    {
     "name": "stdout",
     "output_type": "stream",
     "text": [
      "Enter a number: 4\n",
      "4 x 1 = 4\n",
      "4 x 2 = 8\n",
      "4 x 3 = 12\n",
      "4 x 4 = 16\n",
      "4 x 5 = 20\n",
      "4 x 6 = 24\n",
      "4 x 7 = 28\n",
      "4 x 8 = 32\n",
      "4 x 9 = 36\n",
      "4 x 10 = 40\n"
     ]
    }
   ],
   "source": [
    "n=int(input(\"Enter a number: \"))\n",
    "for i in range(1,11):\n",
    "    x=n*i\n",
    "    print(n,\"x\",i,\"=\",x)\n",
    "    i+=1"
   ]
  },
  {
   "cell_type": "markdown",
   "id": "1a37e3c0",
   "metadata": {},
   "source": [
    "16. Write a program that finds the sum of all even numbers between 1 and `n`."
   ]
  },
  {
   "cell_type": "code",
   "execution_count": 24,
   "id": "c650a4d4",
   "metadata": {
    "scrolled": true
   },
   "outputs": [
    {
     "name": "stdout",
     "output_type": "stream",
     "text": [
      "Enter a number: 10\n",
      "30\n"
     ]
    }
   ],
   "source": [
    " n=int(input(\"Enter a number: \"))\n",
    "x=0\n",
    "i=0\n",
    "while i!=(n+1):\n",
    "    if i%2==0:\n",
    "        x+=i\n",
    "    i+=1\n",
    "print(x)"
   ]
  },
  {
   "cell_type": "markdown",
   "id": "20cf6025",
   "metadata": {},
   "source": [
    "17. Write a program that reverses a given number."
   ]
  },
  {
   "cell_type": "code",
   "execution_count": 25,
   "id": "1321f9c8",
   "metadata": {},
   "outputs": [
    {
     "name": "stdout",
     "output_type": "stream",
     "text": [
      "Enter a number: 223344\n",
      "443322\n"
     ]
    }
   ],
   "source": [
    "n=int(input(\"Enter a number: \"))\n",
    "y=\"\"\n",
    "while n>0:\n",
    "    x=n%10\n",
    "    y+=str(x)\n",
    "    n//=10\n",
    "print(y)\n"
   ]
  },
  {
   "cell_type": "markdown",
   "id": "82b16410",
   "metadata": {},
   "source": [
    "18. Write a program that checks if a given string, is a palindrome."
   ]
  },
  {
   "cell_type": "code",
   "execution_count": 26,
   "id": "2719f1d2",
   "metadata": {},
   "outputs": [
    {
     "name": "stdout",
     "output_type": "stream",
     "text": [
      "Enter a number: 16461\n",
      "This is a palindrome number\n"
     ]
    }
   ],
   "source": [
    "n=int(input(\"Enter a number: \"))\n",
    "y=\"\"\n",
    "while n>0:\n",
    "    x=n%10\n",
    "    y+=str(x)\n",
    "    n//=10\n",
    "if y==str(n):\n",
    "    print(\"This is a palindrome number\")\n",
    "else:\n",
    "    print(\"This is a palindrome number\")"
   ]
  },
  {
   "cell_type": "markdown",
   "id": "a866d418",
   "metadata": {},
   "source": [
    "19. Write a program that generates a random number and allows the user to guess it."
   ]
  },
  {
   "cell_type": "code",
   "execution_count": 27,
   "id": "d33dab8e",
   "metadata": {},
   "outputs": [
    {
     "name": "stdout",
     "output_type": "stream",
     "text": [
      "Enter a guess: 50\n",
      "Your guess is too high\n",
      "\n",
      "Enter a new guess: 30\n",
      "Your guess is too high\n",
      "\n",
      "Enter a new guess: 20\n",
      "Your guess is too high\n",
      "\n",
      "Enter a new guess: 10\n",
      "Your guess is too high\n",
      "\n",
      "Enter a new guess: 5\n",
      "Your guess is too low\n",
      "\n",
      "Enter a new guess: 7\n",
      "Congrats! The number was: 7\n"
     ]
    }
   ],
   "source": [
    "import random\n",
    "secret_number = random.randint(1, 99)\n",
    "guess = int(input(\"Enter a guess: \"))\n",
    "while guess != secret_number:\n",
    "    if guess < secret_number: \n",
    "        print(\"Your guess is too low\")\n",
    "    else:\n",
    "        print(\"Your guess is too high\")\n",
    "    print() \n",
    "    guess = int(input(\"Enter a new guess: \"))  \n",
    "print(\"Congrats! The number was: \" + str(secret_number))"
   ]
  },
  {
   "cell_type": "markdown",
   "id": "db925b20",
   "metadata": {},
   "source": [
    "20. Write a program that finds the greatest common divisor (GCD) of two numbers."
   ]
  },
  {
   "cell_type": "code",
   "execution_count": 28,
   "id": "c9cab566",
   "metadata": {},
   "outputs": [
    {
     "name": "stdout",
     "output_type": "stream",
     "text": [
      "Enter a number: 54\n",
      "Enter a number: 24\n",
      "Greatest Common Divisor: 6\n"
     ]
    }
   ],
   "source": [
    "a=int(input(\"Enter a number: \"))\n",
    "b=int(input(\"Enter a number: \"))\n",
    "i=b+1\n",
    "gcd=1\n",
    "while (b+1)>1:\n",
    "        #print(a%i,b%i,i)\n",
    "    if (a%i==0)and (b%i==0):\n",
    "        print(\"Greatest Common Divisor:\",i)\n",
    "        break\n",
    "    i-=1"
   ]
  }
 ],
 "metadata": {
  "kernelspec": {
   "display_name": "Python 3 (ipykernel)",
   "language": "python",
   "name": "python3"
  },
  "language_info": {
   "codemirror_mode": {
    "name": "ipython",
    "version": 3
   },
   "file_extension": ".py",
   "mimetype": "text/x-python",
   "name": "python",
   "nbconvert_exporter": "python",
   "pygments_lexer": "ipython3",
   "version": "3.11.7"
  }
 },
 "nbformat": 4,
 "nbformat_minor": 5
}
